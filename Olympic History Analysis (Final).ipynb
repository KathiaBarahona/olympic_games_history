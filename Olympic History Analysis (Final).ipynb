{
 "cells": [
  {
   "cell_type": "markdown",
   "metadata": {},
   "source": [
    "<h1>Olympic History Analysis</h1>"
   ]
  },
  {
   "cell_type": "markdown",
   "metadata": {},
   "source": [
    "<h2><font color='#0E2545'>Table of Contents</font></h2>"
   ]
  },
  {
   "cell_type": "markdown",
   "metadata": {},
   "source": [
    "<h2><font color='#0E2545'>Introduction</font></h2>\n",
    "\n",
    "\n",
    "Let's pretend we're a team of *risk-takers* , aka gamblers, with a background in data science. Usually we always keep an eye on every competition where we might earn some money. \n",
    "\n",
    "The Tokyo's 2020 Summer Olympic games are going to start in a couple of months and we are really excited, since recently we got a dataset that contains about 120 years of history about the previous olympic games. We are planning to use this dataset in order to make some predictions and see which are the possible winners per event on which we can bet and earn the most."
   ]
  },
  {
   "cell_type": "markdown",
   "metadata": {},
   "source": [
    "<h2><font color='#0E2545'>Data Analytic Question</font></h2>"
   ]
  },
  {
   "cell_type": "markdown",
   "metadata": {},
   "source": [
    "Our goal is to earn a lot on money, so we just want to consider the most popular sports. \n",
    "In order to achieve this, we are asking ourselves the following question:\n",
    "* **Which are the athletes, from the most popular sports, that are going to win gold?**"
   ]
  },
  {
   "cell_type": "markdown",
   "metadata": {},
   "source": [
    "<h2><font color='#0E2545'>Loading the Data</font></h2>"
   ]
  },
  {
   "cell_type": "markdown",
   "metadata": {},
   "source": [
    "As we explained at the beginning, we got the [<font color='blue'>120 years of Olympic History</font>](https://www.kaggle.com/heesoo37/120-years-of-olympic-history-athletes-and-results) dataset, but we also just want to know which are consider the most popular sports, so for this task we are going to web scrape Wikipedia Article: [<font color='blue'>Olympic sports</font>](https://en.wikipedia.org/wiki/Olympic_sports#Current_and_discontinued_summer_program)\n",
    "\n",
    "In the Wikipedia article, it manages popularity using the following categories:\n",
    "* A, B, C, D, E. Where the category A represents the most popular, while the category E represents the least popular. For these analysis we'll only going to consider categories **A and B**."
   ]
  },
  {
   "cell_type": "code",
   "execution_count": 110,
   "metadata": {},
   "outputs": [],
   "source": [
    "%matplotlib inline\n",
    "import matplotlib.pyplot as plt\n",
    "import seaborn as sb\n",
    "import re\n",
    "import numpy as np\n",
    "import pandas as pd\n",
    "import scipy.stats as stats\n",
    "import requests as r\n",
    "from bs4 import BeautifulSoup"
   ]
  },
  {
   "cell_type": "code",
   "execution_count": 239,
   "metadata": {},
   "outputs": [],
   "source": [
    "def get_wiki_article(url = \"https://en.wikipedia.org/wiki/Olympic_sports\"):\n",
    "    article = r.get(url).text\n",
    "    return BeautifulSoup(article)\n",
    "\n",
    "def add_sport_info(pss_data,category,sports,type):\n",
    "    sport_amount = len(sports)\n",
    "    pss_data[\"sport\"] += sports \n",
    "    pss_data[\"category\"] += [category] * sport_amount\n",
    "    pss_data[\"type\"] += [type] * sport_amount\n",
    "    return pss_data\n",
    "\n",
    "#Obtains data about current olympic summer sports by scraping a certain table from a Wikipedia article\n",
    "def get_summer_sports_popularity(article):\n",
    "\n",
    "    \n",
    "    #The table contains the following fields\n",
    "    #Category -> Index 0, represents how popular the sport is (A-E)\n",
    "    #Individual Sport -> Index 1, which sports are individual\n",
    "    #Team Sport -> Index 2, which sports are team based.\n",
    "    pss_data = {\n",
    "        \"category\": [],\n",
    "        \"sport\": [],\n",
    "        \"type\": []\n",
    "    }\n",
    "    pss_table = soup.find_all(\"table\", class_=\"wikitable\")[1]\n",
    "    pss_rows = pss_table.find_all(\"tr\")\n",
    "    for index, row in enumerate(pss_rows):\n",
    "        #Not considering the header\n",
    "        if index == 0:\n",
    "            continue\n",
    "        columns = row.find_all(\"td\")\n",
    "        category = columns[0].text\n",
    "        pattern = re.compile(r'((?:\\w+)(?:\\s*\\w+)*)',re.I)\n",
    "        \n",
    "        #Add individual sports\n",
    "        individual_sports = re.findall(pattern,columns[1].text)\n",
    "        pss_data = add_sport_info(pss_data,category,individual_sports, \"individual\")\n",
    "        \n",
    "        #Add team sports\n",
    "        team_sports =  re.findall(pattern,columns[2].text)\n",
    "        pss_data = add_sport_info(pss_data,category,team_sports, \"team\")\n",
    "        \n",
    "    return pd.DataFrame(pss_data)\n",
    "\n",
    "\n",
    "#Gets the federation for each sport by scraping a certain table from a Wikipedia article\n",
    "def get_federation_per_sport(sports, \n",
    "                             url=\"https://en.wikipedia.org/wiki/Association_of_Summer_Olympic_International_Federations\"):\n",
    "    soup = get_wiki_article(url)\n",
    "    sport_x_fed = {}\n",
    "    fps_table = soup.find_all(\"table\", class_=\"wikitable\")[1]\n",
    "    fps_rows = fps_table.find_all(\"tr\")\n",
    "    for index, row in enumerate(fps_rows):\n",
    "        #Not considering the header\n",
    "        if index == 0:\n",
    "            continue\n",
    "        columns = row.find_all(\"td\")\n",
    "        \n",
    "        sport_name = columns[0].text\n",
    "        sport_fed_acronym = columns[2].text\n",
    "        for sport in sports:\n",
    "            if sport not in sport_x_fed:\n",
    "                #match at least the first 3 letters of the sport\n",
    "                pattern = re.compile(r'('+sport[0:3]+')',re.I)\n",
    "                if re.match(pattern,sport_name):\n",
    "                    sport_x_fed[sport_fed_acronym] = sport\n",
    "                    break\n",
    "                    \n",
    "    return sport_x_fed\n",
    "\n",
    "#Obtain each sport's disciplines using its federation\n",
    "#just consider the disciplines that were official during the past 5 Olympic games\n",
    "def get_disciplines_per_sport(soup, federation_per_sport):\n",
    "    disciplines_per_sport = {\n",
    "        \"discipline\": [],\n",
    "        \"sport\": []\n",
    "    }\n",
    "    dps_table = soup.find_all(\"table\", class_=\"wikitable\")[0]\n",
    "    dps_rows = dps_table.find_all(\"tr\")\n",
    "    \n",
    "    #The table contains some rows that act as separators, no need to be considered\n",
    "    separator_background = \"#ddd\"\n",
    "    last_discipline_background = None\n",
    "    current_federation = \"\"\n",
    "    for index, row in enumerate(dps_rows):\n",
    "        #We know that the first 4 rows are just headers and separators\n",
    "        if index < 4:\n",
    "            continue\n",
    "            \n",
    "        #Each discipline is identified by its background color    \n",
    "        if row.get(\"style\") is not None or row.get(\"bgcolor\") is not None:\n",
    "            background = row.get(\"bgcolor\")\n",
    "            if background is None:\n",
    "                background = re.search(r'(?<=background\\:)#*[A-Za-z0-9]+',row[\"style\"])\n",
    "                background = background.group(0)\n",
    "            #It is a separator, then skip it\n",
    "            if background.upper() == separator_background.upper():\n",
    "                continue\n",
    "                \n",
    "            columns = row.find_all(\"td\")\n",
    "            discipline_name = columns[0].text\n",
    "            \n",
    "            if last_discipline_background != background:\n",
    "                last_discipline_background = background\n",
    "                current_federation = columns[2].text.strip()\n",
    "            \n",
    "            if current_federation not in federation_per_sport:\n",
    "                continue\n",
    "            \n",
    "            #If it was in the 5 previous olympic games\n",
    "            if columns[-5].text == \"\":\n",
    "                continue\n",
    "            \n",
    "            sport_name = federation_per_sport[current_federation]\n",
    "            disciplines_per_sport[\"discipline\"].append(discipline_name)\n",
    "            disciplines_per_sport[\"sport\"].append(sport_name)\n",
    "    \n",
    "    #If the sport doens't have disciplines, just add it\n",
    "    for fed,sport in federation_per_sport.items():\n",
    "        if sport not in disciplines_per_sport[\"sport\"]:\n",
    "            disciplines_per_sport[\"sport\"].append(sport)\n",
    "            disciplines_per_sport[\"discipline\"].append(sport)\n",
    "            \n",
    "    return pd.DataFrame(disciplines_per_sport)\n",
    "        \n",
    "        \n",
    "        \n",
    "    \n",
    "    "
   ]
  },
  {
   "cell_type": "code",
   "execution_count": 240,
   "metadata": {},
   "outputs": [
    {
     "data": {
      "text/html": [
       "<div>\n",
       "<style scoped>\n",
       "    .dataframe tbody tr th:only-of-type {\n",
       "        vertical-align: middle;\n",
       "    }\n",
       "\n",
       "    .dataframe tbody tr th {\n",
       "        vertical-align: top;\n",
       "    }\n",
       "\n",
       "    .dataframe thead th {\n",
       "        text-align: right;\n",
       "    }\n",
       "</style>\n",
       "<table border=\"1\" class=\"dataframe\">\n",
       "  <thead>\n",
       "    <tr style=\"text-align: right;\">\n",
       "      <th></th>\n",
       "      <th>discipline</th>\n",
       "      <th>sport</th>\n",
       "    </tr>\n",
       "  </thead>\n",
       "  <tbody>\n",
       "    <tr>\n",
       "      <th>0</th>\n",
       "      <td>Diving</td>\n",
       "      <td>aquatics</td>\n",
       "    </tr>\n",
       "    <tr>\n",
       "      <th>1</th>\n",
       "      <td>Swimming</td>\n",
       "      <td>aquatics</td>\n",
       "    </tr>\n",
       "    <tr>\n",
       "      <th>2</th>\n",
       "      <td>Synchronized swimming</td>\n",
       "      <td>aquatics</td>\n",
       "    </tr>\n",
       "    <tr>\n",
       "      <th>3</th>\n",
       "      <td>Water polo</td>\n",
       "      <td>aquatics</td>\n",
       "    </tr>\n",
       "    <tr>\n",
       "      <th>4</th>\n",
       "      <td>Basketball</td>\n",
       "      <td>basketball</td>\n",
       "    </tr>\n",
       "    <tr>\n",
       "      <th>5</th>\n",
       "      <td>Mountain biking</td>\n",
       "      <td>cycling</td>\n",
       "    </tr>\n",
       "    <tr>\n",
       "      <th>6</th>\n",
       "      <td>Road cycling</td>\n",
       "      <td>cycling</td>\n",
       "    </tr>\n",
       "    <tr>\n",
       "      <th>7</th>\n",
       "      <td>Track cycling</td>\n",
       "      <td>cycling</td>\n",
       "    </tr>\n",
       "    <tr>\n",
       "      <th>8</th>\n",
       "      <td>Artistic</td>\n",
       "      <td>gymnastics</td>\n",
       "    </tr>\n",
       "    <tr>\n",
       "      <th>9</th>\n",
       "      <td>Rhythmic</td>\n",
       "      <td>gymnastics</td>\n",
       "    </tr>\n",
       "    <tr>\n",
       "      <th>10</th>\n",
       "      <td>Trampoline</td>\n",
       "      <td>gymnastics</td>\n",
       "    </tr>\n",
       "    <tr>\n",
       "      <th>11</th>\n",
       "      <td>Volleyball (beach)</td>\n",
       "      <td>volleyball</td>\n",
       "    </tr>\n",
       "    <tr>\n",
       "      <th>12</th>\n",
       "      <td>Volleyball (indoor)</td>\n",
       "      <td>volleyball</td>\n",
       "    </tr>\n",
       "    <tr>\n",
       "      <th>13</th>\n",
       "      <td>athletics</td>\n",
       "      <td>athletics</td>\n",
       "    </tr>\n",
       "    <tr>\n",
       "      <th>14</th>\n",
       "      <td>football</td>\n",
       "      <td>football</td>\n",
       "    </tr>\n",
       "    <tr>\n",
       "      <th>15</th>\n",
       "      <td>tennis</td>\n",
       "      <td>tennis</td>\n",
       "    </tr>\n",
       "  </tbody>\n",
       "</table>\n",
       "</div>"
      ],
      "text/plain": [
       "               discipline       sport\n",
       "0                  Diving    aquatics\n",
       "1                Swimming    aquatics\n",
       "2   Synchronized swimming    aquatics\n",
       "3              Water polo    aquatics\n",
       "4              Basketball  basketball\n",
       "5         Mountain biking     cycling\n",
       "6            Road cycling     cycling\n",
       "7           Track cycling     cycling\n",
       "8                Artistic  gymnastics\n",
       "9                Rhythmic  gymnastics\n",
       "10             Trampoline  gymnastics\n",
       "11     Volleyball (beach)  volleyball\n",
       "12    Volleyball (indoor)  volleyball\n",
       "13              athletics   athletics\n",
       "14               football    football\n",
       "15                 tennis      tennis"
      ]
     },
     "execution_count": 240,
     "metadata": {},
     "output_type": "execute_result"
    }
   ],
   "source": [
    "test = get_disciplines_per_sport(soup,federation_per_sport)\n",
    "test.head(100)"
   ]
  },
  {
   "cell_type": "code",
   "execution_count": 209,
   "metadata": {},
   "outputs": [
    {
     "data": {
      "text/plain": [
       "{'FINA': 'aquatics',\n",
       " 'IAAF': 'athletics',\n",
       " 'WBSC': 'basketball',\n",
       " 'FIBA': 'basketball',\n",
       " 'UCI': 'cycling',\n",
       " 'FIFA': 'football',\n",
       " 'FIG': 'gymnastics',\n",
       " 'ITF': 'tennis',\n",
       " 'FIVB': 'volleyball'}"
      ]
     },
     "execution_count": 209,
     "metadata": {},
     "output_type": "execute_result"
    }
   ],
   "source": [
    "federation_per_sport"
   ]
  },
  {
   "cell_type": "code",
   "execution_count": 173,
   "metadata": {},
   "outputs": [
    {
     "data": {
      "text/plain": [
       "'#f0f8ff'"
      ]
     },
     "execution_count": 173,
     "metadata": {},
     "output_type": "execute_result"
    }
   ],
   "source": [
    "re.search(r'(?<=background\\:)#[A-Za-z0-9]+','background:#f0f8ff;').group(0)"
   ]
  },
  {
   "cell_type": "code",
   "execution_count": 140,
   "metadata": {},
   "outputs": [],
   "source": [
    "soup = get_wiki_article(\"https://en.wikipedia.org/wiki/Olympic_sports\")"
   ]
  },
  {
   "cell_type": "markdown",
   "metadata": {},
   "source": [
    "At this point, we are going to get the olympic sports' popularity, and only consider the A,B and C categories."
   ]
  },
  {
   "cell_type": "code",
   "execution_count": 141,
   "metadata": {},
   "outputs": [
    {
     "data": {
      "text/html": [
       "<div>\n",
       "<style scoped>\n",
       "    .dataframe tbody tr th:only-of-type {\n",
       "        vertical-align: middle;\n",
       "    }\n",
       "\n",
       "    .dataframe tbody tr th {\n",
       "        vertical-align: top;\n",
       "    }\n",
       "\n",
       "    .dataframe thead th {\n",
       "        text-align: right;\n",
       "    }\n",
       "</style>\n",
       "<table border=\"1\" class=\"dataframe\">\n",
       "  <thead>\n",
       "    <tr style=\"text-align: right;\">\n",
       "      <th></th>\n",
       "      <th>category</th>\n",
       "      <th>sport</th>\n",
       "      <th>type</th>\n",
       "    </tr>\n",
       "  </thead>\n",
       "  <tbody>\n",
       "    <tr>\n",
       "      <th>0</th>\n",
       "      <td>A</td>\n",
       "      <td>athletics</td>\n",
       "      <td>individual</td>\n",
       "    </tr>\n",
       "    <tr>\n",
       "      <th>1</th>\n",
       "      <td>A</td>\n",
       "      <td>aquatics</td>\n",
       "      <td>individual</td>\n",
       "    </tr>\n",
       "    <tr>\n",
       "      <th>2</th>\n",
       "      <td>A</td>\n",
       "      <td>gymnastics</td>\n",
       "      <td>individual</td>\n",
       "    </tr>\n",
       "    <tr>\n",
       "      <th>3</th>\n",
       "      <td>B</td>\n",
       "      <td>cycling</td>\n",
       "      <td>individual</td>\n",
       "    </tr>\n",
       "    <tr>\n",
       "      <th>4</th>\n",
       "      <td>B</td>\n",
       "      <td>tennis</td>\n",
       "      <td>individual</td>\n",
       "    </tr>\n",
       "    <tr>\n",
       "      <th>5</th>\n",
       "      <td>B</td>\n",
       "      <td>basketball</td>\n",
       "      <td>team</td>\n",
       "    </tr>\n",
       "    <tr>\n",
       "      <th>6</th>\n",
       "      <td>B</td>\n",
       "      <td>football</td>\n",
       "      <td>team</td>\n",
       "    </tr>\n",
       "    <tr>\n",
       "      <th>7</th>\n",
       "      <td>B</td>\n",
       "      <td>volleyball</td>\n",
       "      <td>team</td>\n",
       "    </tr>\n",
       "    <tr>\n",
       "      <th>8</th>\n",
       "      <td>C</td>\n",
       "      <td>archery</td>\n",
       "      <td>individual</td>\n",
       "    </tr>\n",
       "    <tr>\n",
       "      <th>9</th>\n",
       "      <td>C</td>\n",
       "      <td>badminton</td>\n",
       "      <td>individual</td>\n",
       "    </tr>\n",
       "  </tbody>\n",
       "</table>\n",
       "</div>"
      ],
      "text/plain": [
       "  category       sport        type\n",
       "0        A   athletics  individual\n",
       "1        A    aquatics  individual\n",
       "2        A  gymnastics  individual\n",
       "3        B     cycling  individual\n",
       "4        B      tennis  individual\n",
       "5        B  basketball        team\n",
       "6        B    football        team\n",
       "7        B  volleyball        team\n",
       "8        C     archery  individual\n",
       "9        C   badminton  individual"
      ]
     },
     "execution_count": 141,
     "metadata": {},
     "output_type": "execute_result"
    }
   ],
   "source": [
    "summer_sports_pd = get_summer_sports_popularity(article)\n",
    "summer_sports_pd.head(10)"
   ]
  },
  {
   "cell_type": "code",
   "execution_count": 142,
   "metadata": {},
   "outputs": [
    {
     "name": "stdout",
     "output_type": "stream",
     "text": [
      "All Popularities: ['A' 'B' 'C' 'D' 'E']\n",
      "Considered Popularities: ['A' 'B']\n",
      "Considered Sports: ['athletics' 'aquatics' 'gymnastics' 'cycling' 'tennis' 'basketball'\n",
      " 'football' 'volleyball']\n"
     ]
    }
   ],
   "source": [
    "#We just consider most popular, in this case Categories A,B,C\n",
    "print(\"All Popularities:\",summer_sports_pd.category.unique())\n",
    "summer_sports_pd = summer_sports_pd[summer_sports_pd[\"category\"].str.match(r'[AB]')]\n",
    "print(\"Considered Popularities:\",summer_sports_pd.category.unique())\n",
    "print(\"Considered Sports:\",  summer_sports_pd.sport.unique())"
   ]
  },
  {
   "cell_type": "markdown",
   "metadata": {},
   "source": [
    "After getting the most popular sports, we need to know which discipline the sport includes. The Wikipedia article contains the disciplines per sport, but we need the sport's federation in order to recognize to which sport the discipline corresponds."
   ]
  },
  {
   "cell_type": "code",
   "execution_count": 159,
   "metadata": {},
   "outputs": [],
   "source": [
    "sports = summer_sports_pd.sport.unique()\n",
    "federation_per_sport = get_federation_per_sport(sports)"
   ]
  },
  {
   "cell_type": "code",
   "execution_count": 161,
   "metadata": {},
   "outputs": [
    {
     "data": {
      "text/plain": [
       "{'FINA': 'aquatics',\n",
       " 'IAAF': 'athletics',\n",
       " 'WBSC': 'basketball',\n",
       " 'FIBA': 'basketball',\n",
       " 'UCI': 'cycling',\n",
       " 'FIFA': 'football',\n",
       " 'FIG': 'gymnastics',\n",
       " 'ITF': 'tennis',\n",
       " 'FIVB': 'volleyball'}"
      ]
     },
     "execution_count": 161,
     "metadata": {},
     "output_type": "execute_result"
    }
   ],
   "source": [
    "federation_per_sport"
   ]
  },
  {
   "cell_type": "code",
   "execution_count": null,
   "metadata": {},
   "outputs": [],
   "source": []
  }
 ],
 "metadata": {
  "kernelspec": {
   "display_name": "Python 3",
   "language": "python",
   "name": "python3"
  },
  "language_info": {
   "codemirror_mode": {
    "name": "ipython",
    "version": 3
   },
   "file_extension": ".py",
   "mimetype": "text/x-python",
   "name": "python",
   "nbconvert_exporter": "python",
   "pygments_lexer": "ipython3",
   "version": "3.7.0"
  }
 },
 "nbformat": 4,
 "nbformat_minor": 2
}
